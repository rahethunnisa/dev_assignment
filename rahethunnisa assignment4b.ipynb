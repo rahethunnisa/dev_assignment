{
 "cells": [
  {
   "cell_type": "code",
   "execution_count": 3,
   "id": "15090767",
   "metadata": {},
   "outputs": [],
   "source": [
    "name1=\"rahethunnisa\"\n",
    "name2=\"rahmathunnisa\"\n",
    "name3=\"rafeequnnisa\"\n",
    "name4=\"navya\"\n",
    "name5=\"divya\"\n",
    "name6=\"gayatri\"\n",
    "name7=\"ramya\"\n",
    "name8=\"sushma\"\n",
    "name9=\"sravya\"\n",
    "name10=\"bhavya\""
   ]
  },
  {
   "cell_type": "code",
   "execution_count": null,
   "id": "e19c284f",
   "metadata": {},
   "outputs": [],
   "source": []
  },
  {
   "cell_type": "code",
   "execution_count": 4,
   "id": "8c9c804e",
   "metadata": {},
   "outputs": [
    {
     "name": "stdout",
     "output_type": "stream",
     "text": [
      "rahethunnisa\n",
      "rahmathunnisa\n",
      "rafeequnnisa\n",
      "navya\n",
      "divya\n",
      "gayatri\n",
      "ramya\n",
      "sushma\n",
      "sravya\n",
      "bhavya\n"
     ]
    }
   ],
   "source": [
    "print(name1)\n",
    "print(name2)\n",
    "print(name3)\n",
    "print(name4)\n",
    "print(name5)\n",
    "print(name6)\n",
    "print(name7)\n",
    "print(name8)\n",
    "print(name9)"
   ]
  },
  {
   "cell_type": "code",
   "execution_count": 27,
   "id": "1fc912ff",
   "metadata": {},
   "outputs": [
    {
     "name": "stdout",
     "output_type": "stream",
     "text": [
      "rahethunnisa\n",
      "rahmathunnisa\n"
     ]
    }
   ],
   "source": [
    "friends_names=(\"rahethunnisa\\nrahmathunnisa\")\n",
    "print(friends_names)"
   ]
  },
  {
   "cell_type": "code",
   "execution_count": 6,
   "id": "b8b08341",
   "metadata": {},
   "outputs": [],
   "source": [
    "mother=\"shamshad\"\n",
    "father='rakheeb'\n",
    "youngersister=\"rahmathunnisa\"\n",
    "eldersister=\"rafeequnnisa\"\n",
    "grandfather=\"joniaalam\"\n",
    "grandmother=\"ameena khatoon\"\n",
    "cousinbrother1=\"faizulla\"\n",
    "cousinbrother2=\"zabeeulla\"\n",
    "cousinbrother3=\"riyazulla\"\n",
    "soninlaw=\"ayan ahamed\"\n"
   ]
  },
  {
   "cell_type": "code",
   "execution_count": 7,
   "id": "ca9f44d8",
   "metadata": {
    "scrolled": true
   },
   "outputs": [
    {
     "name": "stdout",
     "output_type": "stream",
     "text": [
      "shamshad\n",
      "rakheeb\n",
      "rahmathunnisa\n",
      "rafeequnnisa\n",
      "ameena khatoon\n",
      "joniaalam\n",
      "faizulla\n",
      "zabeeulla\n",
      "riyazulla\n",
      "ayan ahamed\n"
     ]
    }
   ],
   "source": [
    "print(mother)\n",
    "print(father)\n",
    "print(youngersister)\n",
    "print(eldersister)\n",
    "print(grandmother)\n",
    "print(grandfather)\n",
    "print(cousinbrother1)\n",
    "print(cousinbrother2)\n",
    "print(cousinbrother3)\n",
    "print(soninlaw)"
   ]
  },
  {
   "cell_type": "code",
   "execution_count": 3,
   "id": "9f5f60b7",
   "metadata": {},
   "outputs": [],
   "source": [
    "food1=\"fishfry\"\n",
    "food2=\"chickencurry\"\n",
    "food3=\"muttoncurry\"\n",
    "food4=\"chicenfry\"\n",
    "food5=\"fishcurry\"\n",
    "food6=\"potatofry\"\n",
    "food7=\"cabbagefry\"\n",
    "food8=\"cauliflowerfry\"\n",
    "food9=\"carrotfry\"\n",
    "food10=\"biryani\""
   ]
  },
  {
   "cell_type": "code",
   "execution_count": 4,
   "id": "bba2bd18",
   "metadata": {},
   "outputs": [
    {
     "name": "stdout",
     "output_type": "stream",
     "text": [
      "fishfry\n",
      "chickencurry\n",
      "muttoncurry\n",
      "chicenfry\n",
      "fishcurry\n",
      "potatofry\n",
      "cabbagefry\n",
      "cauliflowerfry\n",
      "carrotfry\n",
      "biryani\n"
     ]
    }
   ],
   "source": [
    "print(food1)\n",
    "print(food2)\n",
    "print(food3)\n",
    "print(food4)\n",
    "print(food5)\n",
    "print(food6)\n",
    "print(food7)\n",
    "print(food8)\n",
    "print(food9)\n",
    "print(food10)"
   ]
  },
  {
   "cell_type": "code",
   "execution_count": 5,
   "id": "043a936b",
   "metadata": {},
   "outputs": [],
   "source": [
    "colour1=\"pink\"\n",
    "colour2=\"purple\"\n",
    "colour3=\"blue\"\n",
    "colour4=\"skyblue\"\n",
    "colour5=\"violet\"\n",
    "colour6=\"red\"\n",
    "colour7=\"black\"\n",
    "colour8=\"brown\"\n",
    "colour9=\"white\"\n",
    "colour10=\"green\""
   ]
  },
  {
   "cell_type": "code",
   "execution_count": 6,
   "id": "2eab866f",
   "metadata": {},
   "outputs": [
    {
     "name": "stdout",
     "output_type": "stream",
     "text": [
      "pink\n",
      "purple\n",
      "blue\n",
      "skyblue\n",
      "violet\n",
      "red\n",
      "black\n",
      "brown\n",
      "white\n",
      "green\n"
     ]
    }
   ],
   "source": [
    "print(colour1)\n",
    "print(colour2)\n",
    "print(colour3)\n",
    "print(colour4)\n",
    "print(colour5)\n",
    "print(colour6)\n",
    "print(colour7)\n",
    "print(colour8)\n",
    "print(colour9)\n",
    "print(colour10)"
   ]
  },
  {
   "cell_type": "code",
   "execution_count": 11,
   "id": "4b9b6afc",
   "metadata": {},
   "outputs": [],
   "source": [
    "month1=\"january\"\n",
    "month2=\"february\"\n",
    "month3=\"march\"\n",
    "month4=\"april\"\n",
    "month5=\"may\"\n",
    "month6=\"june\"\n",
    "month7=\"july\"\n",
    "month8=\"august\"\n",
    "month9=\"september\"\n",
    "month10=\"october\"\n",
    "month11=\"november\"\n",
    "month12=\"december\"\n"
   ]
  },
  {
   "cell_type": "code",
   "execution_count": 12,
   "id": "2e721abc",
   "metadata": {},
   "outputs": [
    {
     "name": "stdout",
     "output_type": "stream",
     "text": [
      "january\n",
      "february\n",
      "march\n",
      "april\n",
      "may\n",
      "june\n",
      "july\n",
      "august\n",
      "september\n",
      "october\n",
      "november\n",
      "december\n"
     ]
    }
   ],
   "source": [
    "print(month1)\n",
    "print(month2)\n",
    "print(month3)\n",
    "print(month4)\n",
    "print(month5)\n",
    "print(month6)\n",
    "print(month7)\n",
    "print(month8)\n",
    "print(month9)\n",
    "print(month10)\n",
    "print(month11)\n",
    "print(month12)\n"
   ]
  },
  {
   "cell_type": "code",
   "execution_count": 13,
   "id": "04adad1c",
   "metadata": {},
   "outputs": [],
   "source": [
    "game1=\"hockey\"\n",
    "game2=\"volleyball\"\n",
    "game3=\"basketball\"\n",
    "game4=\"cricket\"\n",
    "game5=\"shuttle\"\n",
    "game6=\"chess\"\n",
    "game7=\"carroms\"\n",
    "game8=\"kabbadi\"\n",
    "game9=\"kho-kho\"\n",
    "game10=\"ludo\""
   ]
  },
  {
   "cell_type": "code",
   "execution_count": 14,
   "id": "0a65cfdf",
   "metadata": {},
   "outputs": [
    {
     "name": "stdout",
     "output_type": "stream",
     "text": [
      "hockey\n",
      "volleyball\n",
      "basketball\n",
      "cricket\n",
      "shuttle\n",
      "chess\n",
      "carroms\n",
      "kabbadi\n",
      "kho-kho\n",
      "ludo\n"
     ]
    }
   ],
   "source": [
    "print(game1)\n",
    "print(game2)\n",
    "print(game3)\n",
    "print(game4)\n",
    "print(game5)\n",
    "print(game6)\n",
    "print(game7)\n",
    "print(game8)\n",
    "print(game9)\n",
    "print(game10)"
   ]
  },
  {
   "cell_type": "code",
   "execution_count": 16,
   "id": "e02c7071",
   "metadata": {},
   "outputs": [],
   "source": [
    "city1=\"hyderabad\"\n",
    "city2=\"vizag\"\n",
    "city3=\"machilipatnam\"\n",
    "city4=\"chennai\"\n",
    "city5=\"italy\"\n",
    "city6=\"ooty\"\n",
    "city7=\"vijayawada\"\n",
    "city8=\"bangalore\"\n",
    "city9=\"mumbai\"\n",
    "city10=\"pune\""
   ]
  },
  {
   "cell_type": "code",
   "execution_count": 17,
   "id": "3bd98c7e",
   "metadata": {},
   "outputs": [
    {
     "name": "stdout",
     "output_type": "stream",
     "text": [
      "hyderabad\n",
      "vizag\n",
      "machilipatnam\n",
      "chennai\n",
      "italy\n",
      "ooty\n",
      "vijayawada\n",
      "bangalore\n",
      "mumbai\n",
      "pune\n"
     ]
    }
   ],
   "source": [
    "print(city1)\n",
    "print(city2)\n",
    "print(city3)\n",
    "print(city4)\n",
    "print(city5)\n",
    "print(city6)\n",
    "print(city7)\n",
    "print(city8)\n",
    "print(city9)\n",
    "print(city10)"
   ]
  },
  {
   "cell_type": "code",
   "execution_count": 5,
   "id": "a1459ab9",
   "metadata": {},
   "outputs": [],
   "source": [
    "list1=[1,2,3,4,5,6,7,8,9,10]\n",
    "friendnames=[\"navya\",\"divya\",\"bhavya\",\"sravya\",\"kavya\",\"farha\",\"ayan\",\"mobeena\",\"ashiya\",\"roksana\"]\n"
   ]
  },
  {
   "cell_type": "code",
   "execution_count": 26,
   "id": "49d3ce28",
   "metadata": {},
   "outputs": [
    {
     "name": "stdout",
     "output_type": "stream",
     "text": [
      "[1, 2, 3, 4, 5, 6, 7, 8, 9, 10]\n",
      "['navya', 'divya', 'bhavya', 'sravya', 'kavya', 'farha', 'ayan', 'mobeena', 'ashiya', 'roksana']\n"
     ]
    }
   ],
   "source": [
    "print(list1)\n",
    "print(friendnames)"
   ]
  },
  {
   "cell_type": "code",
   "execution_count": 28,
   "id": "c6c1845b",
   "metadata": {},
   "outputs": [],
   "source": [
    "tuple=(1,2,3,4,5,6,7,8,9,10)\n",
    "familymembers=(\"mother\",'father',\"grandmother\",\"grandfather\",\"brother\",\"sister\",\"aunt\",\"uncle\",\"cousin\",\"soninlaw\")"
   ]
  },
  {
   "cell_type": "code",
   "execution_count": 29,
   "id": "9272ff0e",
   "metadata": {},
   "outputs": [
    {
     "name": "stdout",
     "output_type": "stream",
     "text": [
      "(1, 2, 3, 4, 5, 6, 7, 8, 9, 10)\n",
      "('mother', 'father', 'grandmother', 'grandfather', 'brother', 'sister', 'aunt', 'uncle', 'cousin', 'soninlaw')\n"
     ]
    }
   ],
   "source": [
    "print(tuple)\n",
    "print(familymembers)"
   ]
  },
  {
   "cell_type": "code",
   "execution_count": 33,
   "id": "f13fac8f",
   "metadata": {},
   "outputs": [],
   "source": [
    "set={1,2,3,4,5,6,7,8,9,10}\n",
    "coloursnames={\"pink\",\"blue\",\"green\",\"red\",\"orange\",\"violet\",\"purple\",\"skyblue\",\"black\",\"white\"}"
   ]
  },
  {
   "cell_type": "code",
   "execution_count": 35,
   "id": "be631444",
   "metadata": {
    "scrolled": true
   },
   "outputs": [
    {
     "name": "stdout",
     "output_type": "stream",
     "text": [
      "{1, 2, 3, 4, 5, 6, 7, 8, 9, 10}\n",
      "{'white', 'violet', 'skyblue', 'pink', 'red', 'blue', 'black', 'orange', 'green', 'purple'}\n"
     ]
    }
   ],
   "source": [
    "print(set)\n",
    "print(coloursnames)"
   ]
  },
  {
   "cell_type": "code",
   "execution_count": 3,
   "id": "ad41183d",
   "metadata": {},
   "outputs": [
    {
     "name": "stdout",
     "output_type": "stream",
     "text": [
      "{1, 2, 3, 4, 5, 6, 7, 8, 9, 10}\n"
     ]
    }
   ],
   "source": [
    "month_names=[1,9,10,5,3,2,7,8,6,4]\n",
    "month_names1=set(month_names)\n",
    "print(month_names1)"
   ]
  },
  {
   "cell_type": "code",
   "execution_count": 15,
   "id": "1a4cbd5e",
   "metadata": {},
   "outputs": [
    {
     "data": {
      "text/plain": [
       "['chiranjeevi',\n",
       " 'balakrishna',\n",
       " 'nagarjuna',\n",
       " 'venky',\n",
       " 'pawan kalyan',\n",
       " 'maheshbabu',\n",
       " 'NT rama rao',\n",
       " 'ramcharan']"
      ]
     },
     "execution_count": 15,
     "metadata": {},
     "output_type": "execute_result"
    }
   ],
   "source": [
    "tollywood_heros=[\"chiru\", \"balaya\", \"nag\",\"venky\",\"powerstar\",\"superstar\",\"ntr\",\"ramcharan\"]\n",
    "tollywood_heros[0]=\"chiranjeevi\"\n",
    "tollywood_heros\n",
    "tollywood_heros[1]=\"balakrishna\"\n",
    "tollywood_heros\n",
    "tollywood_heros[2]=\"nagarjuna\"\n",
    "tollywood_heros\n",
    "tollywood_heros[3]=\"venky\"\n",
    "tollywood_heros\n",
    "tollywood_heros[4]=\"pawan kalyan\"\n",
    "tollywood_heros\n",
    "tollywood_heros[5]=\"maheshbabu\"\n",
    "tollywood_heros\n",
    "tollywood_heros[6]=\"NT rama rao\"\n",
    "tollywood_heros\n",
    "tollywood_heros[7]=\"ramcharan\"\n",
    "tollywood_heros\n",
    "\n"
   ]
  },
  {
   "cell_type": "code",
   "execution_count": 25,
   "id": "f39782bf",
   "metadata": {},
   "outputs": [
    {
     "data": {
      "text/plain": [
       "{'Akshay Kumar',\n",
       " 'Amitabh Bachchan',\n",
       " 'HrithikRoshan',\n",
       " 'amirkhan',\n",
       " 'salmankhan',\n",
       " 'sharukkhan'}"
      ]
     },
     "execution_count": 25,
     "metadata": {},
     "output_type": "execute_result"
    }
   ],
   "source": [
    "bollywood_heros=[\"sharukkhan\", \"salmankhan\", \"salmankhan\",\"amirkhan\",\"HrithikRoshan\",\"Amitabh Bachchan\",\"Akshay Kumar\",\"amirkhan\"]\n",
    "bollywood_herossett"
   ]
  },
  {
   "cell_type": "code",
   "execution_count": 31,
   "id": "14feba4f",
   "metadata": {},
   "outputs": [
    {
     "data": {
      "text/plain": [
       "'mysoor baji'"
      ]
     },
     "execution_count": 31,
     "metadata": {},
     "output_type": "execute_result"
    }
   ],
   "source": [
    "breakfast_items=[\"upma\",\"dosa\",\"idly\",\"puri\",\"punugulu\",\"roti\",\"chapathi\", \"parota\",\"mysoor baji\",\"minapa baji\"]\n",
    "breakfast_items[8]\n"
   ]
  },
  {
   "cell_type": "code",
   "execution_count": null,
   "id": "7d58b5fb",
   "metadata": {},
   "outputs": [],
   "source": []
  }
 ],
 "metadata": {
  "kernelspec": {
   "display_name": "Python 3 (ipykernel)",
   "language": "python",
   "name": "python3"
  },
  "language_info": {
   "codemirror_mode": {
    "name": "ipython",
    "version": 3
   },
   "file_extension": ".py",
   "mimetype": "text/x-python",
   "name": "python",
   "nbconvert_exporter": "python",
   "pygments_lexer": "ipython3",
   "version": "3.10.9"
  }
 },
 "nbformat": 4,
 "nbformat_minor": 5
}
